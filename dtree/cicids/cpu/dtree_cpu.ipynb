{
 "cells": [
  {
   "cell_type": "code",
   "execution_count": null,
   "id": "45421016",
   "metadata": {},
   "outputs": [],
   "source": [
    "import socket\n",
    "import pickle\n",
    "import sklearn\n",
    "import time\n",
    "import numpy as np\n",
    "import struct"
   ]
  },
  {
   "cell_type": "code",
   "execution_count": null,
   "id": "d45b5655",
   "metadata": {},
   "outputs": [],
   "source": [
    "dtree = '/home/admin2/ML_NIC/dtree/cicids/model.pkl'"
   ]
  },
  {
   "cell_type": "code",
   "execution_count": null,
   "id": "e7261886",
   "metadata": {},
   "outputs": [],
   "source": [
    "# Load up model\n",
    "with open(dtree, 'rb') as f:\n",
    "    clf = pickle.load(f)"
   ]
  },
  {
   "cell_type": "code",
   "execution_count": null,
   "id": "b3e29c20",
   "metadata": {},
   "outputs": [],
   "source": [
    "sock = socket.socket(socket.AF_PACKET, socket.SOCK_RAW, socket.htons(0x4d49))\n",
    "sock.setsockopt(socket.SOL_SOCKET, socket.SO_REUSEPORT, 1)\n",
    "sock.setsockopt(socket.SOL_SOCKET, socket.SO_REUSEADDR, 1)\n",
    "sock.bind(('enp2s0np1', 0))"
   ]
  },
  {
   "cell_type": "code",
   "execution_count": null,
   "id": "850e2f47",
   "metadata": {},
   "outputs": [],
   "source": [
    "times_1 = []\n",
    "times_2 = []"
   ]
  },
  {
   "cell_type": "code",
   "execution_count": null,
   "id": "b22beb7b",
   "metadata": {},
   "outputs": [],
   "source": [
    "\n",
    "# Run a dummy to take out the total load and dump time\n",
    "while (True):\n",
    "    data, addr = sock.recvfrom(2048)\n",
    "    \n",
    "#     start_1 = time.time_ns()\n",
    "    ethHdr = data[0:14]\n",
    "    ethH = struct.unpack('!6s6s2s', ethHdr)\n",
    "    \n",
    "    ipHdr = data[14:34]\n",
    "    ipH = struct.unpack('!12s4s4s', ipHdr)\n",
    "    \n",
    "    ipProto = ipHdr[9]\n",
    "    ipFlags = ipHdr[6] >> 5\n",
    "    tcpDst = 0\n",
    "    udpDst = 0\n",
    "    pktSize = int.from_bytes(ipHdr[2:4])\n",
    "    tcpFlags = 0\n",
    "    \n",
    "    l4Hdr = None\n",
    "    if (ipProto == 6):\n",
    "        l4Hdr = data[34:54]\n",
    "        tcpDst = int.from_bytes(l4Hdr[2:4])\n",
    "        tcpFlags = l4Hdr[13] & 0x3f\n",
    "        \n",
    "    elif (ipProto == 17):\n",
    "        l4Hdr = data[34:42]\n",
    "        udpDst = int.from_bytes(l4Hdr[2:4])\n",
    "        \n",
    "    elif (ipProto == 1 or ipProto == 2):\n",
    "        l4Hdr = data[34:38]\n",
    "        \n",
    "    \n",
    "    # feature_names = ['etherType', 'ipProto', 'ipFlags', 'tcpDst', 'udpDst', 'pktSize', 'tcpFlags']\n",
    "    dataIn = np.array([[2048, ipProto, ipFlags, tcpDst, udpDst, pktSize, tcpFlags]])\n",
    "#     end_1 = time.time_ns()\n",
    "    \n",
    "    pred = clf.predict(dataIn)\n",
    "        \n",
    "#     start_2 = time.time_ns()\n",
    "    pred = int(pred[0]).to_bytes(1)\n",
    "    out_pkt = ethH[1] + ethH[0] + b'\\x4d\\x4f' + ipH[0] + ipH[2] + ipH[1] + l4Hdr + pred\n",
    "#     end_2 = time.time_ns()\n",
    "    \n",
    "    sock.send(out_pkt)\n",
    "    \n",
    "#     times_1.append(end_1 - start_1)\n",
    "#     times_2.append(end_2 - start_2)"
   ]
  },
  {
   "cell_type": "code",
   "execution_count": null,
   "id": "95893d89",
   "metadata": {},
   "outputs": [],
   "source": [
    "sock.close()"
   ]
  },
  {
   "cell_type": "code",
   "execution_count": null,
   "id": "33cb4462",
   "metadata": {},
   "outputs": [],
   "source": [
    "print(np.average(times_1))\n",
    "print(np.average(times_2))"
   ]
  },
  {
   "cell_type": "code",
   "execution_count": null,
   "id": "732591b9",
   "metadata": {},
   "outputs": [],
   "source": []
  }
 ],
 "metadata": {
  "kernelspec": {
   "display_name": "Python 3 (ipykernel)",
   "language": "python",
   "name": "python3"
  },
  "language_info": {
   "codemirror_mode": {
    "name": "ipython",
    "version": 3
   },
   "file_extension": ".py",
   "mimetype": "text/x-python",
   "name": "python",
   "nbconvert_exporter": "python",
   "pygments_lexer": "ipython3",
   "version": "3.11.4"
  }
 },
 "nbformat": 4,
 "nbformat_minor": 5
}
