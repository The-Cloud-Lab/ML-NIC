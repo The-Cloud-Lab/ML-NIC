{
 "cells": [
  {
   "cell_type": "code",
   "execution_count": 1,
   "id": "45421016",
   "metadata": {},
   "outputs": [],
   "source": [
    "import socket\n",
    "import pickle\n",
    "import sklearn\n",
    "import time\n",
    "from ctypes import create_string_buffer, addressof  \n",
    "import numpy as np\n",
    "from struct import pack, unpack"
   ]
  },
  {
   "cell_type": "code",
   "execution_count": 2,
   "id": "d45b5655",
   "metadata": {},
   "outputs": [],
   "source": [
    "dtree = '/home/admin2/ML_NIC/dtree/cicids/model.pkl'"
   ]
  },
  {
   "cell_type": "code",
   "execution_count": 3,
   "id": "e7261886",
   "metadata": {},
   "outputs": [],
   "source": [
    "# Load up model\n",
    "with open(dtree, 'rb') as f:\n",
    "    clf = pickle.load(f)"
   ]
  },
  {
   "cell_type": "code",
   "execution_count": 4,
   "id": "68ffddcd",
   "metadata": {},
   "outputs": [],
   "source": [
    "SO_ATTACH_FILTER = 26    \n",
    "ETH_P_ALL = 3\n",
    "\n",
    "lines = [\n",
    "    ( 0x20, 0, 0, 0x00000002 ),\n",
    "    ( 0x15, 0, 22, 0x4d1379ac ),\n",
    "    ( 0x28, 0, 0, 0x00000000 ),\n",
    "    ( 0x15, 0, 20, 0x00000015 ),\n",
    "    ( 0x20, 0, 0, 0x00000008 ),\n",
    "    ( 0x15, 0, 18, 0xeba6de3d ),\n",
    "    ( 0x28, 0, 0, 0x00000006 ),\n",
    "    ( 0x15, 0, 16, 0x000008c0 ),\n",
    "    ( 0x28, 0, 0, 0x0000000c ),\n",
    "    ( 0x15, 13, 0, 0x00004d49 ),\n",
    "    ( 0x15, 0, 4, 0x000086dd ),\n",
    "    ( 0x30, 0, 0, 0x00000014 ),\n",
    "    ( 0x15, 0, 11, 0x00000011 ),\n",
    "    ( 0x28, 0, 0, 0x00000036 ),\n",
    "    ( 0x15, 8, 9, 0x0000138d ),\n",
    "    ( 0x15, 0, 8, 0x00000800 ),\n",
    "    ( 0x30, 0, 0, 0x00000017 ),\n",
    "    ( 0x15, 0, 6, 0x00000011 ),\n",
    "    ( 0x28, 0, 0, 0x00000014 ),\n",
    "    ( 0x45, 4, 0, 0x00001fff ),\n",
    "    ( 0xb1, 0, 0, 0x0000000e ),\n",
    "    ( 0x48, 0, 0, 0x0000000e ),\n",
    "    ( 0x15, 0, 1, 0x0000138d ),\n",
    "    ( 0x6, 0, 0, 0x00040000 ),\n",
    "    ( 0x6, 0, 0, 0x00000000 ),\n",
    "]"
   ]
  },
  {
   "cell_type": "code",
   "execution_count": 5,
   "id": "5f6ae405",
   "metadata": {},
   "outputs": [],
   "source": [
    "filters_list = []\n",
    "for l in lines:\n",
    "    filters_list.append(pack(\"HBBI\", l[0], l[1], l[2], l[3]))\n",
    "\n",
    "filters = b''.join(filters_list)  \n",
    "b = create_string_buffer(filters)  \n",
    "mem_addr_of_filters = addressof(b)  \n",
    "fprog = pack('HL', len(filters_list), mem_addr_of_filters)  "
   ]
  },
  {
   "cell_type": "code",
   "execution_count": 6,
   "id": "b3e29c20",
   "metadata": {},
   "outputs": [],
   "source": [
    "sock = socket.socket(socket.AF_PACKET, socket.SOCK_RAW, socket.htons(ETH_P_ALL))\n",
    "sock.setsockopt(socket.SOL_SOCKET, socket.SO_REUSEPORT, 1)\n",
    "sock.setsockopt(socket.SOL_SOCKET, socket.SO_REUSEADDR, 1)\n",
    "sock.setsockopt(socket.SOL_SOCKET, SO_ATTACH_FILTER, fprog)\n",
    "sock.bind(('enp2s0np1', 0))"
   ]
  },
  {
   "cell_type": "code",
   "execution_count": 7,
   "id": "850e2f47",
   "metadata": {},
   "outputs": [],
   "source": [
    "times_1 = []\n",
    "times_2 = []"
   ]
  },
  {
   "cell_type": "code",
   "execution_count": null,
   "id": "b22beb7b",
   "metadata": {},
   "outputs": [],
   "source": [
    "\n",
    "# Run a dummy to take out the total load and dump time\n",
    "while (True):\n",
    "    data, addr = sock.recvfrom(2048)\n",
    "    \n",
    "#     start_1 = time.time_ns()\n",
    "    ethHdr = data[0:14]\n",
    "    ethH = unpack('!6s6s2s', ethHdr)\n",
    "    \n",
    "    ipHdr = data[14:34]\n",
    "    ipH = unpack('!12s4s4s', ipHdr)\n",
    "    \n",
    "#     etherType = int.from_bytes(ethH[2])\n",
    "    ipProto = ipHdr[9]\n",
    "    ipFlags = ipHdr[6] >> 5\n",
    "    tcpDst = 0\n",
    "    udpDst = 0\n",
    "    pktSize = int.from_bytes(ipHdr[2:4])\n",
    "    tcpFlags = 0\n",
    "    \n",
    "    l4Hdr = None\n",
    "    if (ipProto == 6):\n",
    "        l4Hdr = data[34:54]\n",
    "        tcpDst = int.from_bytes(l4Hdr[2:4])\n",
    "        tcpFlags = l4Hdr[13] & 0x3f\n",
    "        \n",
    "    elif (ipProto == 17):\n",
    "        l4Hdr = data[34:42]\n",
    "        udpDst = int.from_bytes(l4Hdr[2:4])\n",
    "        \n",
    "    elif (ipProto == 1 or ipProto == 2):\n",
    "        l4Hdr = data[34:38]\n",
    "        \n",
    "    \n",
    "    # feature_names = ['etherType', 'ipProto', 'ipFlags', 'tcpDst', 'udpDst', 'pktSize', 'tcpFlags']\n",
    "    dataIn = np.array([[2048, ipProto, ipFlags, tcpDst, udpDst, pktSize, tcpFlags]])\n",
    "#     end_1 = time.time_ns()\n",
    "    \n",
    "    pred = clf.predict(dataIn)\n",
    "        \n",
    "#     start_2 = time.time_ns()\n",
    "    pred = int(pred[0]).to_bytes(1)\n",
    "    out_pkt = ethH[1] + ethH[0] + ethH[2] + ipH[0] + ipH[2] + ipH[1] + l4Hdr + pred\n",
    "#     end_2 = time.time_ns()\n",
    "    \n",
    "    sock.send(out_pkt)\n",
    "    \n",
    "#     times_1.append(end_1 - start_1)\n",
    "#     times_2.append(end_2 - start_2)"
   ]
  },
  {
   "cell_type": "code",
   "execution_count": null,
   "id": "95893d89",
   "metadata": {},
   "outputs": [],
   "source": [
    "sock.close()"
   ]
  },
  {
   "cell_type": "code",
   "execution_count": null,
   "id": "33cb4462",
   "metadata": {},
   "outputs": [],
   "source": [
    "print(np.average(times_1))\n",
    "print(np.average(times_2))"
   ]
  },
  {
   "cell_type": "code",
   "execution_count": null,
   "id": "732591b9",
   "metadata": {},
   "outputs": [],
   "source": []
  }
 ],
 "metadata": {
  "kernelspec": {
   "display_name": "Python 3 (ipykernel)",
   "language": "python",
   "name": "python3"
  },
  "language_info": {
   "codemirror_mode": {
    "name": "ipython",
    "version": 3
   },
   "file_extension": ".py",
   "mimetype": "text/x-python",
   "name": "python",
   "nbconvert_exporter": "python",
   "pygments_lexer": "ipython3",
   "version": "3.11.4"
  }
 },
 "nbformat": 4,
 "nbformat_minor": 5
}
