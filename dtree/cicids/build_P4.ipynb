{
 "cells": [
  {
   "cell_type": "code",
   "execution_count": 1,
   "id": "5ea44df3",
   "metadata": {},
   "outputs": [],
   "source": [
    "import pickle\n",
    "from sklearn.tree import export_graphviz\n",
    "from decimal import Decimal"
   ]
  },
  {
   "cell_type": "code",
   "execution_count": 8,
   "id": "fd387e2c",
   "metadata": {},
   "outputs": [],
   "source": [
    "attacks = ['benign', 'dos_slowloris', 'dos_slowhttptest', 'dos_hulk', 'dos_goldeneye', 'wa_brute_force', 'i_portscan']"
   ]
  },
  {
   "cell_type": "code",
   "execution_count": 9,
   "id": "244eea48",
   "metadata": {},
   "outputs": [],
   "source": [
    "with open(\"model.pkl\", \"rb\") as tree_file:\n",
    "    best_clf = pickle.load(tree_file)"
   ]
  },
  {
   "cell_type": "code",
   "execution_count": 10,
   "id": "8ba8438c",
   "metadata": {},
   "outputs": [],
   "source": [
    "## Borrowed from Nerds_Ufes Repo (ifGenerator.py) ##"
   ]
  },
  {
   "cell_type": "code",
   "execution_count": 12,
   "id": "25591766",
   "metadata": {},
   "outputs": [],
   "source": [
    "# Need the dot file for the p4 baseline\n",
    "export_graphviz(best_clf, out_file=\"p4_tree.dot\", \n",
    "                feature_names = ['etherType', 'ipProto', 'ipFlags', 'tcpDst', 'udpDst', 'pktSize', 'tcpFlags'],\n",
    "                class_names = attacks,\n",
    "                rounded = True, proportion = False, \n",
    "                precision = 3, filled = True)"
   ]
  },
  {
   "cell_type": "code",
   "execution_count": 13,
   "id": "03a85092",
   "metadata": {},
   "outputs": [],
   "source": [
    "d_class = {'benign':0, 'dos_slowloris': 1, 'dos_slowhttptest': 2, 'dos_hulk': 3, 'dos_goldeneye': 4, 'wa_brute_force': 5, 'i_portscan': 6}\n",
    "\n",
    "\n",
    "class Tree:\n",
    "    def __init__(self):\n",
    "        self.left = None\n",
    "        self.right = None\n",
    "        self.condition1 = None\n",
    "        self.condition2 = None\n",
    "        self.condition3 = None\n",
    "        self.clazz = None\n",
    "        self.level = None\n",
    "        self.elze = False\n",
    "\n",
    "def montaTree(line):\n",
    "    t = Tree()\n",
    "\n",
    "    l_ = line.split('class = ')\n",
    "    l_ = l_[1].split('\"')\n",
    "    t.clazz = l_[0]\n",
    "    l = line.split('\\\\n')\n",
    "    if len(l) == 5:\n",
    "        l_ = l[0].split('[label=\"')\n",
    "        l_ = l_[1].split(' ')\n",
    "        t.condition1 = l_[0]\n",
    "        t.condition2 = l_[1]\n",
    "        t.condition3 = l_[2]\n",
    "    else:\n",
    "        t.elze = True\n",
    "    l_ = l[0].split(' [')\n",
    "    level = int(l_[0])\n",
    "    t.level = level\n",
    "    return t\n",
    "\n",
    "def ordem(tree, str, strif): \n",
    "    if not tree: return\n",
    "    #print('{}{}, {}, {} {} {}, ELSE: {}'.format(str, tree.level, tree.clazz, tree.condition1,tree.condition2,tree.condition3,tree.elze))\n",
    "    level = ''\n",
    "    if 'rigth' in strif:\n",
    "        f2.write('{}{}else \\n'.format(level, str[0:-4]))\n",
    "    if tree.condition1:\n",
    "        f2.write('{}{}if ({} {} {}) \\n'.format(level, str, tree.condition1,tree.condition2,int(Decimal(tree.condition3))))\n",
    "    if tree.elze and strif == 'left': \n",
    "        f2.write('{}{}meta.class = {};\\n'.format(level, str, d_class[tree.clazz]))\n",
    "    if tree.elze and 'rigth' in strif: \n",
    "        f2.write('{}{}meta.class = {};\\n'.format(level, str, d_class[tree.clazz]))\n",
    "\n",
    "    str +='    '\n",
    "    else_ = ''        \n",
    "    if tree.left and tree.left.elze:\n",
    "        else_ = ' else'        \n",
    "\n",
    "    ordem(tree.left, str, 'left')\n",
    "    ordem(tree.right, str, 'rigth'+else_)\n",
    "\n",
    "file = open('p4_tree.dot'.format(dir), 'r') \n",
    "\n",
    "list = {}\n",
    "tree = None\n",
    "for line in file: \n",
    "    l = line.split('\\\\n')\n",
    "    idx = line.split(' -> ')\n",
    "    level = 0\n",
    "    if len(l) == 5 or len(l) == 4:\n",
    "        l_ = l[0].split(' [')\n",
    "        level = int(l_[0])\n",
    "        list[level] = montaTree(line)\n",
    "        #print('{}, {}, {} {} {}, ELSE: {}'.format(list[level].level, list[level].clazz, list[level].condition1,list[level].condition2,\n",
    "        #     list[level].condition3,list[level].elze))\n",
    "    elif len(idx) == 2:\n",
    "        idx1 = int(idx[0])\n",
    "        idx2 = int(idx[1].split(' ')[0])\n",
    "        t = list[idx1]\n",
    "\n",
    "        if t.left: t.right = list[idx2]\n",
    "        else: t.left = list[idx2]\n",
    "\n",
    "        #print('{}, {}, {} {} {}, ELSE: {}'.format(t.level, t.clazz, t.condition1,t.condition2,t.condition3,t.elze))\n",
    "\n",
    "str = ''\n",
    "\n",
    "f2= open(\"if.txt\".format(dir),\"w+\")\n",
    "ordem(list[0], '    ', f2)\n",
    "f2.close()"
   ]
  },
  {
   "cell_type": "code",
   "execution_count": null,
   "id": "81c81bb6",
   "metadata": {},
   "outputs": [],
   "source": []
  }
 ],
 "metadata": {
  "kernelspec": {
   "display_name": "Python 3 (ipykernel)",
   "language": "python",
   "name": "python3"
  },
  "language_info": {
   "codemirror_mode": {
    "name": "ipython",
    "version": 3
   },
   "file_extension": ".py",
   "mimetype": "text/x-python",
   "name": "python",
   "nbconvert_exporter": "python",
   "pygments_lexer": "ipython3",
   "version": "3.11.4"
  }
 },
 "nbformat": 4,
 "nbformat_minor": 5
}
