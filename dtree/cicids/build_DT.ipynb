{
 "cells": [
  {
   "cell_type": "code",
   "execution_count": null,
   "id": "34cb69f1",
   "metadata": {},
   "outputs": [],
   "source": [
    "import pickle\n",
    "import pandas as pd\n",
    "import numpy as np\n",
    "from sklearn.tree import DecisionTreeClassifier\n",
    "from sklearn.model_selection import GridSearchCV\n",
    "from sklearn.model_selection import train_test_split\n",
    "from sklearn.metrics import precision_score, accuracy_score, f1_score, recall_score"
   ]
  },
  {
   "cell_type": "code",
   "execution_count": null,
   "id": "57a6a785",
   "metadata": {},
   "outputs": [],
   "source": [
    "slowLoris_train = pd.read_csv(\"/home/admin2/ML_NIC/datasets/cicids2017/slowLorisTrain.csv\")\n",
    "slowHttp_train = pd.read_csv(\"/home/admin2/ML_NIC/datasets/cicids2017/slowHttpTrain.csv\")\n",
    "goldenEye_train = pd.read_csv(\"/home/admin2/ML_NIC/datasets/cicids2017/goldenEyeTrain.csv\")\n",
    "hulk_train = pd.read_csv(\"/home/admin2/ML_NIC/datasets/cicids2017/hulkTrain.csv\")\n",
    "bruteForce_train = pd.read_csv(\"/home/admin2/ML_NIC/datasets/cicids2017/bruteForceTrain.csv\")\n",
    "portScan_train = pd.read_csv(\"/home/admin2/ML_NIC/datasets/cicids2017/portScanTrain.csv\")\n",
    "wedBenign_train = pd.read_csv(\"/home/admin2/ML_NIC/datasets/cicids2017/wedBenignTrain.csv\")\n",
    "thurBenign_train = pd.read_csv(\"/home/admin2/ML_NIC/datasets/cicids2017/thurBenignTrain.csv\")"
   ]
  },
  {
   "cell_type": "code",
   "execution_count": null,
   "id": "250ee453",
   "metadata": {},
   "outputs": [],
   "source": [
    "slowLoris_test = pd.read_csv(\"/home/admin2/ML_NIC/datasets/cicids2017/slowLorisTest.csv\")\n",
    "slowHttp_test = pd.read_csv(\"/home/admin2/ML_NIC/datasets/cicids2017/slowHttpTest.csv\")\n",
    "goldenEye_test = pd.read_csv(\"/home/admin2/ML_NIC/datasets/cicids2017/goldenEyeTest.csv\")\n",
    "hulk_test = pd.read_csv(\"/home/admin2/ML_NIC/datasets/cicids2017/hulkTest.csv\")\n",
    "bruteForce_test = pd.read_csv(\"/home/admin2/ML_NIC/datasets/cicids2017/bruteForceTest.csv\")\n",
    "portScan_test = pd.read_csv(\"/home/admin2/ML_NIC/datasets/cicids2017/portScanTest.csv\")\n",
    "wedBenign_test = pd.read_csv(\"/home/admin2/ML_NIC/datasets/cicids2017/wedBenignTest.csv\")\n",
    "thurBenign_test = pd.read_csv(\"/home/admin2/ML_NIC/datasets/cicids2017/thurBenignTest.csv\")"
   ]
  },
  {
   "cell_type": "code",
   "execution_count": null,
   "id": "12b774da",
   "metadata": {},
   "outputs": [],
   "source": [
    "trainDf = pd.concat([slowLoris_train, slowHttp_train, goldenEye_train, hulk_train, bruteForce_train, portScan_train, wedBenign_train, thurBenign_train])\n",
    "testDf = pd.concat([bruteForce_test, slowLoris_test, slowHttp_test, goldenEye_test, hulk_test, portScan_test, wedBenign_test, thurBenign_test])"
   ]
  },
  {
   "cell_type": "code",
   "execution_count": null,
   "id": "f137ce51",
   "metadata": {},
   "outputs": [],
   "source": [
    "# Build training set features\n",
    "X_train = trainDf.drop(columns=[\"label\"]).to_numpy()\n",
    "\n",
    "# Convert attack labels to numbers\n",
    "attacks = ['benign', 'dos_slowloris', 'dos_slowhttptest', 'dos_hulk', 'dos_goldeneye', 'wa_brute_force', 'i_portscan']\n",
    "y_train = trainDf[\"label\"].replace(attacks, range(7)).to_numpy()\n"
   ]
  },
  {
   "cell_type": "code",
   "execution_count": null,
   "id": "1d83b54c",
   "metadata": {},
   "outputs": [],
   "source": [
    "# Combination of hyperparameters seen used in baseline authors codes\n",
    "params = {\"min_samples_leaf\": [2, 3, 4, 5, 6],\n",
    "          \"min_samples_split\": [2, 3], \n",
    "          \"min_impurity_decrease\": [0.00001, 0.0003, 0.0004, 0.0005, 0.005],}\n"
   ]
  },
  {
   "cell_type": "code",
   "execution_count": null,
   "id": "5929515a",
   "metadata": {},
   "outputs": [],
   "source": [
    "clf = DecisionTreeClassifier(random_state=99, min_weight_fraction_leaf=0.0, splitter='best')\n",
    "grid = GridSearchCV(clf, params, scoring=\"f1_macro\", cv=5, refit=True)\n",
    "grid.fit(X_train, y_train)"
   ]
  },
  {
   "cell_type": "code",
   "execution_count": null,
   "id": "fe765032",
   "metadata": {},
   "outputs": [],
   "source": [
    "best_clf = grid.best_estimator_\n",
    "with open(\"model.pkl\", \"wb\") as tree_file:\n",
    "    pickle.dump(best_clf, tree_file)"
   ]
  },
  {
   "cell_type": "code",
   "execution_count": null,
   "id": "390ee528",
   "metadata": {},
   "outputs": [],
   "source": [
    "### Evaluate classifier on test set\n",
    "X_test = testDf.drop(columns=[\"label\"]).to_numpy()\n",
    "attacks = ['benign', 'dos_slowloris', 'dos_slowhttptest', 'dos_hulk', 'dos_goldeneye', 'wa_brute_force', 'i_portscan']\n",
    "y_test = testDf[\"label\"].replace(attacks, range(7)).to_numpy()\n"
   ]
  },
  {
   "cell_type": "code",
   "execution_count": null,
   "id": "e834378d",
   "metadata": {},
   "outputs": [],
   "source": [
    "y_pred = best_clf.predict(X_test)"
   ]
  },
  {
   "cell_type": "code",
   "execution_count": null,
   "id": "4a69c2c2",
   "metadata": {},
   "outputs": [],
   "source": [
    "# Evaluate trained tree\n",
    "print(f\"Accuracy Score: {accuracy_score(y_test, y_pred)}\")\n",
    "print(f\"F1 Score (Macro): {f1_score(y_test, y_pred, average='macro')}\")\n",
    "print(f\"Precision Score (Macro): {precision_score(y_test, y_pred, average='macro')}\")\n",
    "print(f\"Recall Score (Macro): {recall_score(y_test, y_pred, average='macro')}\")"
   ]
  },
  {
   "cell_type": "code",
   "execution_count": null,
   "id": "6c953fd4",
   "metadata": {},
   "outputs": [],
   "source": []
  }
 ],
 "metadata": {
  "kernelspec": {
   "display_name": "Python 3 (ipykernel)",
   "language": "python",
   "name": "python3"
  },
  "language_info": {
   "codemirror_mode": {
    "name": "ipython",
    "version": 3
   },
   "file_extension": ".py",
   "mimetype": "text/x-python",
   "name": "python",
   "nbconvert_exporter": "python",
   "pygments_lexer": "ipython3",
   "version": "3.11.4"
  }
 },
 "nbformat": 4,
 "nbformat_minor": 5
}
