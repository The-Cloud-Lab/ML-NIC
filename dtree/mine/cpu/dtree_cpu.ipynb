{
 "cells": [
  {
   "cell_type": "code",
   "execution_count": null,
   "id": "45421016",
   "metadata": {},
   "outputs": [],
   "source": [
    "import socket\n",
    "import pickle\n",
    "import sklearn\n",
    "import time\n",
    "import numpy as np"
   ]
  },
  {
   "cell_type": "code",
   "execution_count": null,
   "id": "d45b5655",
   "metadata": {},
   "outputs": [],
   "source": [
    "dtree = '/home/admin2/ML_NIC/dtree/land_mine/model.pkl'"
   ]
  },
  {
   "cell_type": "code",
   "execution_count": null,
   "id": "e7261886",
   "metadata": {},
   "outputs": [],
   "source": [
    "# Load up model\n",
    "with open(dtree, 'rb') as f:\n",
    "    clf = pickle.load(f)"
   ]
  },
  {
   "cell_type": "code",
   "execution_count": null,
   "id": "209d337d",
   "metadata": {},
   "outputs": [],
   "source": [
    "host = '10.0.0.2'\n",
    "target = '10.0.0.1'\n",
    "port = 5005"
   ]
  },
  {
   "cell_type": "code",
   "execution_count": null,
   "id": "b3e29c20",
   "metadata": {},
   "outputs": [],
   "source": [
    "sock = socket.socket(socket.AF_INET, socket.SOCK_DGRAM)\n",
    "sock.setsockopt(socket.SOL_SOCKET, socket.SO_REUSEPORT, 1)\n",
    "sock.setsockopt(socket.SOL_SOCKET, socket.SO_REUSEADDR,1)\n",
    "sock.bind((host, port))"
   ]
  },
  {
   "cell_type": "code",
   "execution_count": null,
   "id": "850e2f47",
   "metadata": {},
   "outputs": [],
   "source": [
    "times_1 = []\n",
    "times_2 = []"
   ]
  },
  {
   "cell_type": "code",
   "execution_count": null,
   "id": "b22beb7b",
   "metadata": {},
   "outputs": [],
   "source": [
    "\n",
    "# Run a dummy to take out the total load and dump time\n",
    "while (True):\n",
    "    data, addr = sock.recvfrom(2048)\n",
    "    \n",
    "#     start_1 = time.time_ns()\n",
    "    data = pickle.loads(data)\n",
    "#     end_1 = time.time_ns()\n",
    "    \n",
    "    pred = clf.predict(data)\n",
    "    \n",
    "#     start_2 = time.time_ns()\n",
    "    pred = int(pred[0]).to_bytes(1)\n",
    "#     end_2 = time.time_ns()\n",
    "    \n",
    "    sock.sendto(pred, (target, port))\n",
    "    \n",
    "#     times_1.append(end_1 - start_1)\n",
    "#     times_2.append(end_2 - start_2)"
   ]
  },
  {
   "cell_type": "code",
   "execution_count": null,
   "id": "f079e217",
   "metadata": {},
   "outputs": [],
   "source": [
    "sock.close()"
   ]
  },
  {
   "cell_type": "code",
   "execution_count": null,
   "id": "33cb4462",
   "metadata": {},
   "outputs": [],
   "source": [
    "print(np.average(times_1))\n",
    "print(np.average(times_2))"
   ]
  },
  {
   "cell_type": "code",
   "execution_count": null,
   "id": "732591b9",
   "metadata": {},
   "outputs": [],
   "source": []
  }
 ],
 "metadata": {
  "kernelspec": {
   "display_name": "Python 3 (ipykernel)",
   "language": "python",
   "name": "python3"
  },
  "language_info": {
   "codemirror_mode": {
    "name": "ipython",
    "version": 3
   },
   "file_extension": ".py",
   "mimetype": "text/x-python",
   "name": "python",
   "nbconvert_exporter": "python",
   "pygments_lexer": "ipython3",
   "version": "3.11.4"
  }
 },
 "nbformat": 4,
 "nbformat_minor": 5
}
