{
 "cells": [
  {
   "cell_type": "code",
   "execution_count": null,
   "id": "65b0d2e1",
   "metadata": {},
   "outputs": [],
   "source": [
    "import sklearn\n",
    "from sklearn.tree import DecisionTreeClassifier\n",
    "from sklearn.model_selection import train_test_split\n",
    "from sklearn.preprocessing import MinMaxScaler, OneHotEncoder\n",
    "from sklearn.metrics import accuracy_score, f1_score, precision_score, recall_score\n",
    "\n",
    "import pandas as pd\n",
    "import numpy as np\n",
    "import pickle\n",
    "import math"
   ]
  },
  {
   "cell_type": "code",
   "execution_count": null,
   "id": "a6dc9e3c",
   "metadata": {},
   "outputs": [],
   "source": [
    "seed = 99"
   ]
  },
  {
   "cell_type": "markdown",
   "id": "4b421e2d",
   "metadata": {},
   "source": [
    "# Build Model"
   ]
  },
  {
   "cell_type": "code",
   "execution_count": null,
   "id": "fb166906",
   "metadata": {},
   "outputs": [],
   "source": [
    "### Import Data ###\n",
    "dataset = pd.read_excel(\"/home/admin2/ML_NIC/datasets/land+mines-1/Mine_Dataset.xls\", \n",
    "                        sheet_name=\"Normalized_Data\", names=['Voltage', 'Height', 'Soil Type', 'Mine Type'])"
   ]
  },
  {
   "cell_type": "code",
   "execution_count": null,
   "id": "6c705e37",
   "metadata": {},
   "outputs": [],
   "source": [
    "dataset_features = dataset.drop(columns=['Mine Type'])\n",
    "dataset_labels = dataset['Mine Type']"
   ]
  },
  {
   "cell_type": "code",
   "execution_count": null,
   "id": "16d11fd8",
   "metadata": {},
   "outputs": [],
   "source": [
    "### Build Train and Test Sets ###\n",
    "X_train, X_test, y_train, y_test = train_test_split(dataset_features, dataset_labels, \n",
    "                                                    random_state=seed, test_size=0.2,\n",
    "                                                    stratify=dataset_labels)"
   ]
  },
  {
   "cell_type": "code",
   "execution_count": null,
   "id": "d9da697c",
   "metadata": {},
   "outputs": [],
   "source": [
    "X_train = X_train.to_numpy()\n",
    "X_test = X_test.to_numpy()\n",
    "\n",
    "y_train = y_train.to_numpy()\n",
    "y_test = y_test.to_numpy()"
   ]
  },
  {
   "cell_type": "code",
   "execution_count": null,
   "id": "b681e037",
   "metadata": {},
   "outputs": [],
   "source": [
    "one_hot = OneHotEncoder(handle_unknown='ignore')\n",
    "X_train = np.hstack((np.delete(X_train, 2, 1), one_hot.fit_transform(X_train[:, 2].reshape(-1, 1)).toarray()))\n",
    "X_test = np.hstack((np.delete(X_test, 2, 1), one_hot.transform(X_test[:, 2].reshape(-1, 1)).toarray()))"
   ]
  },
  {
   "cell_type": "code",
   "execution_count": null,
   "id": "c2310496",
   "metadata": {
    "scrolled": true
   },
   "outputs": [],
   "source": [
    "### Build Decision Tree ###\n",
    "clf = DecisionTreeClassifier(random_state=seed)\n",
    "clf.fit(X_train, y_train)"
   ]
  },
  {
   "cell_type": "code",
   "execution_count": null,
   "id": "24d48c78",
   "metadata": {},
   "outputs": [],
   "source": [
    "### Save the trained model ###\n",
    "with open(\"model.pkl\", \"wb\") as f:\n",
    "    pickle.dump(clf, f)"
   ]
  },
  {
   "cell_type": "code",
   "execution_count": null,
   "id": "61150b6e",
   "metadata": {},
   "outputs": [],
   "source": [
    "print(accuracy_score(y_test, clf_preds))\n",
    "print(f1_score(y_test, clf_preds, average='macro'))\n",
    "print(precision_score(y_test, clf_preds, average='macro'))\n",
    "print(recall_score(y_test, clf_preds, average='macro'))"
   ]
  }
 ],
 "metadata": {
  "kernelspec": {
   "display_name": "Python 3 (ipykernel)",
   "language": "python",
   "name": "python3"
  },
  "language_info": {
   "codemirror_mode": {
    "name": "ipython",
    "version": 3
   },
   "file_extension": ".py",
   "mimetype": "text/x-python",
   "name": "python",
   "nbconvert_exporter": "python",
   "pygments_lexer": "ipython3",
   "version": "3.11.4"
  }
 },
 "nbformat": 4,
 "nbformat_minor": 5
}
