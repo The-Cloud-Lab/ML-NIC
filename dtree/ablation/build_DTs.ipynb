{
 "cells": [
  {
   "cell_type": "code",
   "execution_count": null,
   "id": "effbcb40",
   "metadata": {},
   "outputs": [],
   "source": [
    "import pickle\n",
    "import pandas as pd\n",
    "import numpy as np\n",
    "from sklearn.tree import DecisionTreeClassifier\n",
    "from sklearn.model_selection import GridSearchCV\n",
    "from sklearn.model_selection import train_test_split\n",
    "from sklearn.metrics import precision_score, accuracy_score, f1_score, recall_score"
   ]
  },
  {
   "cell_type": "code",
   "execution_count": null,
   "id": "d1bc762b",
   "metadata": {},
   "outputs": [],
   "source": [
    "slowLoris_train = pd.read_csv(\"/home/admin2/ML_NIC/datasets/cicids2017/slowLorisTrain.csv\")\n",
    "slowHttp_train = pd.read_csv(\"/home/admin2/ML_NIC/datasets/cicids2017/slowHttpTrain.csv\")\n",
    "goldenEye_train = pd.read_csv(\"/home/admin2/ML_NIC/datasets/cicids2017/goldenEyeTrain.csv\")\n",
    "hulk_train = pd.read_csv(\"/home/admin2/ML_NIC/datasets/cicids2017/hulkTrain.csv\")\n",
    "bruteForce_train = pd.read_csv(\"/home/admin2/ML_NIC/datasets/cicids2017/bruteForceTrain.csv\")\n",
    "portScan_train = pd.read_csv(\"/home/admin2/ML_NIC/datasets/cicids2017/portScanTrain.csv\")\n",
    "wedBenign_train = pd.read_csv(\"/home/admin2/ML_NIC/datasets/cicids2017/wedBenignTrain.csv\")\n",
    "thurBenign_train = pd.read_csv(\"/home/admin2/ML_NIC/datasets/cicids2017/thurBenignTrain.csv\")"
   ]
  },
  {
   "cell_type": "code",
   "execution_count": null,
   "id": "efeb1b63",
   "metadata": {},
   "outputs": [],
   "source": [
    "slowLoris_test = pd.read_csv(\"/home/admin2/ML_NIC/datasets/cicids2017/slowLorisTest.csv\")\n",
    "slowHttp_test = pd.read_csv(\"/home/admin2/ML_NIC/datasets/cicids2017/slowHttpTest.csv\")\n",
    "goldenEye_test = pd.read_csv(\"/home/admin2/ML_NIC/datasets/cicids2017/goldenEyeTest.csv\")\n",
    "hulk_test = pd.read_csv(\"/home/admin2/ML_NIC/datasets/cicids2017/hulkTest.csv\")\n",
    "bruteForce_test = pd.read_csv(\"/home/admin2/ML_NIC/datasets/cicids2017/bruteForceTest.csv\")\n",
    "portScan_test = pd.read_csv(\"/home/admin2/ML_NIC/datasets/cicids2017/portScanTest.csv\")\n",
    "wedBenign_test = pd.read_csv(\"/home/admin2/ML_NIC/datasets/cicids2017/wedBenignTest.csv\")\n",
    "thurBenign_test = pd.read_csv(\"/home/admin2/ML_NIC/datasets/cicids2017/thurBenignTest.csv\")"
   ]
  },
  {
   "cell_type": "code",
   "execution_count": null,
   "id": "48e37d6f",
   "metadata": {},
   "outputs": [],
   "source": [
    "trainDf = pd.concat([slowLoris_train, slowHttp_train, goldenEye_train, hulk_train, bruteForce_train, portScan_train, wedBenign_train, thurBenign_train])\n",
    "testDf = pd.concat([bruteForce_test, slowLoris_test, slowHttp_test, goldenEye_test, hulk_test, portScan_test, wedBenign_test, thurBenign_test])"
   ]
  },
  {
   "cell_type": "code",
   "execution_count": null,
   "id": "f7ac698f",
   "metadata": {},
   "outputs": [],
   "source": [
    "# Build training set features\n",
    "X_train = trainDf.drop(columns=[\"label\"]).to_numpy()\n",
    "\n",
    "# Convert attack labels to numbers\n",
    "attacks = ['benign', 'dos_slowloris', 'dos_slowhttptest', 'dos_hulk', 'dos_goldeneye', 'wa_brute_force', 'i_portscan']\n",
    "y_train = trainDf[\"label\"].replace(attacks, range(7)).to_numpy()\n"
   ]
  },
  {
   "cell_type": "code",
   "execution_count": null,
   "id": "bc34a1ea",
   "metadata": {},
   "outputs": [],
   "source": [
    "# Build test set features\n",
    "X_test = testDf.drop(columns=[\"label\"]).to_numpy()\n",
    "attacks = ['benign', 'dos_slowloris', 'dos_slowhttptest', 'dos_hulk', 'dos_goldeneye', 'wa_brute_force', 'i_portscan']\n",
    "y_test = testDf[\"label\"].replace(attacks, range(7)).to_numpy()\n"
   ]
  },
  {
   "cell_type": "code",
   "execution_count": null,
   "id": "387ee239",
   "metadata": {},
   "outputs": [],
   "source": [
    "# Iterate over 10 increasing leaf node constraints and build trees\n",
    "leaf_nums = np.linspace(start=16, stop=256, num=10).astype(int)\n",
    "\n",
    "for i, leaf_num in enumerate(leaf_nums):\n",
    "    clf = DecisionTreeClassifier(random_state=99, max_leaf_nodes=leaf_num)\n",
    "    clf.fit(X_train, y_train)\n",
    "    \n",
    "    with open(f\"model{i+1}.pkl\", \"wb\") as tree_file:\n",
    "        pickle.dump(clf, tree_file)\n",
    "    \n",
    "    y_pred = clf.predict(X_test)\n",
    "    \n",
    "    # Evaluate trained tree\n",
    "    print(f\"Model {i+1}\")\n",
    "    print(f\"Accuracy Score: {accuracy_score(y_test, y_pred)}\")\n",
    "    print(f\"F1 Score (Macro): {f1_score(y_test, y_pred, average='macro')}\")\n",
    "    print(f\"Precision Score (Macro): {precision_score(y_test, y_pred, average='macro')}\")\n",
    "    print(f\"Recall Score (Macro): {recall_score(y_test, y_pred, average='macro')}\")\n",
    "    print()\n",
    "    "
   ]
  },
  {
   "cell_type": "code",
   "execution_count": null,
   "id": "a68f9a77",
   "metadata": {},
   "outputs": [],
   "source": []
  }
 ],
 "metadata": {
  "kernelspec": {
   "display_name": "Python 3 (ipykernel)",
   "language": "python",
   "name": "python3"
  },
  "language_info": {
   "codemirror_mode": {
    "name": "ipython",
    "version": 3
   },
   "file_extension": ".py",
   "mimetype": "text/x-python",
   "name": "python",
   "nbconvert_exporter": "python",
   "pygments_lexer": "ipython3",
   "version": "3.11.4"
  }
 },
 "nbformat": 4,
 "nbformat_minor": 5
}
