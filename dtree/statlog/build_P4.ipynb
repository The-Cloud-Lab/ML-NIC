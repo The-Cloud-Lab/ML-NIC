{
 "cells": [
  {
   "cell_type": "code",
   "execution_count": 1,
   "id": "ac056991",
   "metadata": {},
   "outputs": [],
   "source": [
    "import pickle\n",
    "from sklearn.tree import export_graphviz\n",
    "from decimal import Decimal"
   ]
  },
  {
   "cell_type": "code",
   "execution_count": 2,
   "id": "5c9d3371",
   "metadata": {},
   "outputs": [],
   "source": [
    "with open(\"model.pkl\", \"rb\") as tree_file:\n",
    "    best_clf = pickle.load(tree_file)"
   ]
  },
  {
   "cell_type": "code",
   "execution_count": 3,
   "id": "f0cc616e",
   "metadata": {},
   "outputs": [],
   "source": [
    "features = [f'hdr.pload.feature{i+1}' for i in range(best_clf.max_features_)]\n",
    "classes = [f\"{cat}\" for cat in best_clf.classes_]"
   ]
  },
  {
   "cell_type": "code",
   "execution_count": 4,
   "id": "5cf61829",
   "metadata": {},
   "outputs": [],
   "source": [
    "total_bits = 16\n",
    "dec_bits = 13\n",
    "\n",
    "def num_translate(number, total_bits, dec_bits):\n",
    "    return round(number * (2**dec_bits))"
   ]
  },
  {
   "cell_type": "code",
   "execution_count": 5,
   "id": "adf59df6",
   "metadata": {},
   "outputs": [],
   "source": [
    "## Borrowed from Nerds_Ufes Repo (ifGenerator.py) ##"
   ]
  },
  {
   "cell_type": "code",
   "execution_count": 6,
   "id": "2edc7f42",
   "metadata": {},
   "outputs": [],
   "source": [
    "# Need the dot file for the p4 baseline\n",
    "export_graphviz(best_clf, out_file=\"p4_tree.dot\", \n",
    "                feature_names = features,\n",
    "                class_names = classes,\n",
    "                rounded = True, proportion = False, \n",
    "                precision = 3, filled = True)"
   ]
  },
  {
   "cell_type": "code",
   "execution_count": 7,
   "id": "781ff424",
   "metadata": {},
   "outputs": [],
   "source": [
    "class Tree:\n",
    "    def __init__(self):\n",
    "        self.left = None\n",
    "        self.right = None\n",
    "        self.condition1 = None\n",
    "        self.condition2 = None\n",
    "        self.condition3 = None\n",
    "        self.clazz = None\n",
    "        self.level = None\n",
    "        self.elze = False\n",
    "\n",
    "def montaTree(line):\n",
    "    t = Tree()\n",
    "\n",
    "    l_ = line.split('class = ')\n",
    "    l_ = l_[1].split('\"')\n",
    "    t.clazz = l_[0]\n",
    "    l = line.split('\\\\n')\n",
    "    if len(l) == 5:\n",
    "        l_ = l[0].split('[label=\"')\n",
    "        l_ = l_[1].split(' ')\n",
    "        t.condition1 = l_[0]\n",
    "        t.condition2 = l_[1]\n",
    "        t.condition3 = l_[2]\n",
    "    else:\n",
    "        t.elze = True\n",
    "    l_ = l[0].split(' [')\n",
    "    level = int(l_[0])\n",
    "    t.level = level\n",
    "    return t\n",
    "\n",
    "def ordem(tree, str, strif): \n",
    "    if not tree: return\n",
    "    #print('{}{}, {}, {} {} {}, ELSE: {}'.format(str, tree.level, tree.clazz, tree.condition1,tree.condition2,tree.condition3,tree.elze))\n",
    "    level = ''\n",
    "    if 'rigth' in strif:\n",
    "        f2.write('{}{}else \\n'.format(level, str[0:-4]))\n",
    "    if tree.condition1:\n",
    "        f2.write('{}{}if ({} {} {}) \\n'.format(level, str, tree.condition1,tree.condition2, num_translate(float(tree.condition3), total_bits, dec_bits)))\n",
    "    if tree.elze and strif == 'left': \n",
    "        f2.write('{}{}meta.class = {};\\n'.format(level, str, tree.clazz))\n",
    "    if tree.elze and 'rigth' in strif: \n",
    "        f2.write('{}{}meta.class = {};\\n'.format(level, str, tree.clazz))\n",
    "\n",
    "    str +='    '\n",
    "    else_ = ''        \n",
    "    if tree.left and tree.left.elze:\n",
    "        else_ = ' else'        \n",
    "\n",
    "    ordem(tree.left, str, 'left')\n",
    "    ordem(tree.right, str, 'rigth'+else_)\n",
    "\n",
    "file = open('p4_tree.dot'.format(dir), 'r') \n",
    "\n",
    "list = {}\n",
    "tree = None\n",
    "for line in file: \n",
    "    l = line.split('\\\\n')\n",
    "    idx = line.split(' -> ')\n",
    "    level = 0\n",
    "    if len(l) == 5 or len(l) == 4:\n",
    "        l_ = l[0].split(' [')\n",
    "        level = int(l_[0])\n",
    "        list[level] = montaTree(line)\n",
    "        #print('{}, {}, {} {} {}, ELSE: {}'.format(list[level].level, list[level].clazz, list[level].condition1,list[level].condition2,\n",
    "        #     list[level].condition3,list[level].elze))\n",
    "    elif len(idx) == 2:\n",
    "        idx1 = int(idx[0])\n",
    "        idx2 = int(idx[1].split(' ')[0])\n",
    "        t = list[idx1]\n",
    "\n",
    "        if t.left: t.right = list[idx2]\n",
    "        else: t.left = list[idx2]\n",
    "\n",
    "        #print('{}, {}, {} {} {}, ELSE: {}'.format(t.level, t.clazz, t.condition1,t.condition2,t.condition3,t.elze))\n",
    "\n",
    "str = ''\n",
    "\n",
    "f2= open(\"if.txt\",\"w+\")\n",
    "ordem(list[0], '    ', f2)\n",
    "f2.close()"
   ]
  }
 ],
 "metadata": {
  "kernelspec": {
   "display_name": "Python 3 (ipykernel)",
   "language": "python",
   "name": "python3"
  },
  "language_info": {
   "codemirror_mode": {
    "name": "ipython",
    "version": 3
   },
   "file_extension": ".py",
   "mimetype": "text/x-python",
   "name": "python",
   "nbconvert_exporter": "python",
   "pygments_lexer": "ipython3",
   "version": "3.11.4"
  }
 },
 "nbformat": 4,
 "nbformat_minor": 5
}
