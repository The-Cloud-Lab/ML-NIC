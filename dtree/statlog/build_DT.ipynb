{
 "cells": [
  {
   "cell_type": "code",
   "execution_count": null,
   "id": "fe056fbf",
   "metadata": {},
   "outputs": [],
   "source": [
    "import sklearn\n",
    "from sklearn.tree import DecisionTreeClassifier\n",
    "from sklearn.model_selection import train_test_split\n",
    "from sklearn.preprocessing import MinMaxScaler\n",
    "from sklearn.metrics import accuracy_score, f1_score, precision_score, recall_score\n",
    "\n",
    "import pandas as pd\n",
    "import numpy as np\n",
    "import pickle\n",
    "import math\n",
    "import sys"
   ]
  },
  {
   "cell_type": "code",
   "execution_count": null,
   "id": "eb0b8a9e",
   "metadata": {},
   "outputs": [],
   "source": [
    "seed = 99"
   ]
  },
  {
   "cell_type": "markdown",
   "id": "87f29560",
   "metadata": {},
   "source": [
    "# Build Model"
   ]
  },
  {
   "cell_type": "code",
   "execution_count": null,
   "id": "b448e87d",
   "metadata": {},
   "outputs": [],
   "source": [
    "train_dataset = pd.read_csv(\"/home/admin2/ML_NIC/datasets/statlog+landsat+satellite/sat.trn\", header=None,\n",
    "                           sep=' ')\n",
    "test_dataset = pd.read_csv(\"/home/admin2/ML_NIC/datasets/statlog+landsat+satellite/sat.tst\", header=None,\n",
    "                          sep=' ')"
   ]
  },
  {
   "cell_type": "code",
   "execution_count": null,
   "id": "2cf0ebf9",
   "metadata": {},
   "outputs": [],
   "source": [
    "train_features = train_dataset.drop(columns=[36])\n",
    "train_labels = train_dataset[36]"
   ]
  },
  {
   "cell_type": "code",
   "execution_count": null,
   "id": "acf07212",
   "metadata": {},
   "outputs": [],
   "source": [
    "test_features = test_dataset.drop(columns=[36])\n",
    "test_labels = test_dataset[36]"
   ]
  },
  {
   "cell_type": "code",
   "execution_count": null,
   "id": "81ec14fd",
   "metadata": {},
   "outputs": [],
   "source": [
    "dataset_scaler = MinMaxScaler(feature_range=(0, 1), clip=True)\n",
    "train_features = dataset_scaler.fit_transform(train_features)\n",
    "test_features = dataset_scaler.transform(test_features)"
   ]
  },
  {
   "cell_type": "code",
   "execution_count": null,
   "id": "789df04c",
   "metadata": {},
   "outputs": [],
   "source": [
    "clf = DecisionTreeClassifier(random_state=seed, max_leaf_nodes=256)\n",
    "clf.fit(train_features, train_labels)"
   ]
  },
  {
   "cell_type": "code",
   "execution_count": null,
   "id": "f90fc058",
   "metadata": {},
   "outputs": [],
   "source": [
    "### Save the trained model ###\n",
    "with open(\"model.pkl\", \"wb\") as f:\n",
    "    pickle.dump(clf, f)"
   ]
  },
  {
   "cell_type": "code",
   "execution_count": null,
   "id": "fd65ea72",
   "metadata": {},
   "outputs": [],
   "source": [
    "print(accuracy_score(test_labels, clf_preds) * 100)\n",
    "print(f1_score(test_labels, clf_preds, average='macro') * 100)\n",
    "print(precision_score(test_labels, clf_preds, average='macro') * 100)\n",
    "print(recall_score(test_labels, clf_preds, average='macro') * 100)"
   ]
  }
 ],
 "metadata": {
  "kernelspec": {
   "display_name": "Python 3 (ipykernel)",
   "language": "python",
   "name": "python3"
  },
  "language_info": {
   "codemirror_mode": {
    "name": "ipython",
    "version": 3
   },
   "file_extension": ".py",
   "mimetype": "text/x-python",
   "name": "python",
   "nbconvert_exporter": "python",
   "pygments_lexer": "ipython3",
   "version": "3.11.4"
  }
 },
 "nbformat": 4,
 "nbformat_minor": 5
}
