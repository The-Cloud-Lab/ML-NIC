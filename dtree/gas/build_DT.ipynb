{
 "cells": [
  {
   "cell_type": "code",
   "execution_count": null,
   "id": "ee3a6474",
   "metadata": {},
   "outputs": [],
   "source": [
    "import sklearn\n",
    "from sklearn.tree import DecisionTreeClassifier\n",
    "from sklearn.model_selection import train_test_split\n",
    "from sklearn.preprocessing import MinMaxScaler, LabelEncoder\n",
    "from sklearn.metrics import accuracy_score, f1_score, precision_score, recall_score\n",
    "\n",
    "import pandas as pd\n",
    "import numpy as np\n",
    "import pickle\n",
    "import math"
   ]
  },
  {
   "cell_type": "code",
   "execution_count": null,
   "id": "acba483f",
   "metadata": {},
   "outputs": [],
   "source": [
    "seed = 99"
   ]
  },
  {
   "cell_type": "markdown",
   "id": "9dafc765",
   "metadata": {},
   "source": [
    "# Build/Load Model"
   ]
  },
  {
   "cell_type": "code",
   "execution_count": null,
   "id": "dc58a4ef",
   "metadata": {},
   "outputs": [],
   "source": [
    "batch1 = pd.read_csv(\"/home/admin2/ML_NIC/datasets/gas+sensor+array+drift+dataset/batch1.dat\", \n",
    "                    header=None, sep=' \\d+:')\n",
    "\n",
    "batch2 = pd.read_csv(\"/home/admin2/ML_NIC/datasets/gas+sensor+array+drift+dataset/batch2.dat\", \n",
    "                    header=None, sep=' \\d+:')\n",
    "\n",
    "batch3 = pd.read_csv(\"/home/admin2/ML_NIC/datasets/gas+sensor+array+drift+dataset/batch3.dat\", \n",
    "                    header=None, sep=' \\d+:')\n",
    "\n",
    "batch4 = pd.read_csv(\"/home/admin2/ML_NIC/datasets/gas+sensor+array+drift+dataset/batch4.dat\", \n",
    "                    header=None, sep=' \\d+:')\n",
    "\n",
    "batch5 = pd.read_csv(\"/home/admin2/ML_NIC/datasets/gas+sensor+array+drift+dataset/batch5.dat\", \n",
    "                    header=None, sep=' \\d+:')\n",
    "\n",
    "batch6 = pd.read_csv(\"/home/admin2/ML_NIC/datasets/gas+sensor+array+drift+dataset/batch6.dat\", \n",
    "                    header=None, sep=' \\d+:')\n",
    "\n",
    "batch7 = pd.read_csv(\"/home/admin2/ML_NIC/datasets/gas+sensor+array+drift+dataset/batch7.dat\", \n",
    "                    header=None, sep=' \\d+:')\n",
    "\n",
    "batch8 = pd.read_csv(\"/home/admin2/ML_NIC/datasets/gas+sensor+array+drift+dataset/batch8.dat\", \n",
    "                    header=None, sep=' \\d+:')\n",
    "\n",
    "batch9 = pd.read_csv(\"/home/admin2/ML_NIC/datasets/gas+sensor+array+drift+dataset/batch9.dat\", \n",
    "                    header=None, sep=' \\d+:')\n",
    "\n",
    "batch10 = pd.read_csv(\"/home/admin2/ML_NIC/datasets/gas+sensor+array+drift+dataset/batch10.dat\", \n",
    "                    header=None, sep=' \\d+:')"
   ]
  },
  {
   "cell_type": "code",
   "execution_count": null,
   "id": "d4c214c9",
   "metadata": {},
   "outputs": [],
   "source": [
    "dataset = pd.concat([batch1, batch2, batch3, batch4, batch5,\n",
    "                    batch6, batch7, batch8, batch9, batch10], ignore_index=True, axis=0)"
   ]
  },
  {
   "cell_type": "code",
   "execution_count": null,
   "id": "fa9407c1",
   "metadata": {},
   "outputs": [],
   "source": [
    "features = dataset.drop(columns=[0])\n",
    "labels = dataset[0]"
   ]
  },
  {
   "cell_type": "code",
   "execution_count": null,
   "id": "f8503485",
   "metadata": {},
   "outputs": [],
   "source": [
    "X_train, X_test, y_train, y_test = train_test_split(features, labels, test_size=0.2, random_state=seed,\n",
    "                                                   stratify=labels)"
   ]
  },
  {
   "cell_type": "code",
   "execution_count": null,
   "id": "df243574",
   "metadata": {},
   "outputs": [],
   "source": [
    "minmax = MinMaxScaler(feature_range=(0, 1), clip=True)"
   ]
  },
  {
   "cell_type": "code",
   "execution_count": null,
   "id": "1e2bcab4",
   "metadata": {},
   "outputs": [],
   "source": [
    "X_train = minmax.fit_transform(X_train)\n",
    "X_test = minmax.transform(X_test)"
   ]
  },
  {
   "cell_type": "code",
   "execution_count": null,
   "id": "7702c697",
   "metadata": {},
   "outputs": [],
   "source": [
    "clf = DecisionTreeClassifier(random_state=seed, max_leaf_nodes=256)\n",
    "clf.fit(X_train, y_train)"
   ]
  },
  {
   "cell_type": "code",
   "execution_count": null,
   "id": "3fd9cf2d",
   "metadata": {},
   "outputs": [],
   "source": [
    "### Save the trained model ###\n",
    "with open(\"model.pkl\", \"wb\") as f:\n",
    "    pickle.dump(clf, f)"
   ]
  },
  {
   "cell_type": "code",
   "execution_count": null,
   "id": "939cc93f",
   "metadata": {},
   "outputs": [],
   "source": [
    "print(accuracy_score(y_test, clf_preds))\n",
    "print(f1_score(y_test, clf_preds, average='macro'))\n",
    "print(precision_score(y_test, clf_preds, average='macro'))\n",
    "print(recall_score(y_test, clf_preds, average='macro'))"
   ]
  }
 ],
 "metadata": {
  "kernelspec": {
   "display_name": "Python 3 (ipykernel)",
   "language": "python",
   "name": "python3"
  },
  "language_info": {
   "codemirror_mode": {
    "name": "ipython",
    "version": 3
   },
   "file_extension": ".py",
   "mimetype": "text/x-python",
   "name": "python",
   "nbconvert_exporter": "python",
   "pygments_lexer": "ipython3",
   "version": "3.11.4"
  }
 },
 "nbformat": 4,
 "nbformat_minor": 5
}
